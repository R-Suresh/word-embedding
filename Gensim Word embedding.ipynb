{
 "cells": [
  {
   "cell_type": "code",
   "execution_count": 2,
   "metadata": {},
   "outputs": [],
   "source": [
    "def read_custom_file(filename):\n",
    "    data=tf.compat.as_str(open(filename,'r').read()).split()\n",
    "    return data"
   ]
  },
  {
   "cell_type": "code",
   "execution_count": 5,
   "metadata": {},
   "outputs": [],
   "source": [
    "import tensorflow as tf"
   ]
  },
  {
   "cell_type": "code",
   "execution_count": 3,
   "metadata": {},
   "outputs": [],
   "source": [
    "#model = Word2Vec(sentences, size=100, window=5, min_count=5, workers=4)\n",
    "#min_count = ignore all words with total frequency lower than this.\n",
    "#size=size is the dimensionality of the feature vectors.\n",
    "#window=window is the maximum distance between the current and predicted word within a sentence.\n",
    "#workers = use this many worker threads to train the model (=faster training with multicore machines).\n",
    "#All right now try training the percy.txt"
   ]
  },
  {
   "cell_type": "code",
   "execution_count": 10,
   "metadata": {},
   "outputs": [],
   "source": [
    "import numpy as np"
   ]
  },
  {
   "cell_type": "code",
   "execution_count": 20,
   "metadata": {},
   "outputs": [
    {
     "data": {
      "text/html": [
       "<script>requirejs.config({paths: { 'plotly': ['https://cdn.plot.ly/plotly-latest.min']},});if(!window.Plotly) {{require(['plotly'],function(plotly) {window.Plotly=plotly;});}}</script>"
      ],
      "text/vnd.plotly.v1+html": [
       "<script>requirejs.config({paths: { 'plotly': ['https://cdn.plot.ly/plotly-latest.min']},});if(!window.Plotly) {{require(['plotly'],function(plotly) {window.Plotly=plotly;});}}</script>"
      ]
     },
     "metadata": {},
     "output_type": "display_data"
    }
   ],
   "source": [
    "from sklearn.manifold import TSNE\n",
    "import plotly.graph_objs as go\n",
    "import plotly.offline as py\n",
    "py.init_notebook_mode(connected=True)"
   ]
  },
  {
   "cell_type": "code",
   "execution_count": 6,
   "metadata": {},
   "outputs": [
    {
     "name": "stdout",
     "output_type": "stream",
     "text": [
      "[['The', 'whole', 'group', 'laughed.', 'Mr.', 'Brunner', 'stopped', 'his', 'story.'], ['\"Mr.', 'Jackson,\"', 'he', 'said,', '\"did', 'you', 'have', 'a', 'comment?\"'], ['My', 'face', 'was', 'totally', 'red.', 'I', 'said,', '\"No,', 'sir.\"'], ['Mr.', 'Brunner', 'pointed', 'to', 'one', 'of', 'the', 'pictures', 'on', 'the', 'stele.', '\"Perhaps', \"you'll\", 'tell', 'us', 'what', 'this', 'picture', 'represents?\"'], ['I', 'looked', 'at', 'the', 'carving,', 'and', 'felt', 'a', 'flush', 'of', 'relief,', 'because', 'I', 'actually', 'recognized', 'it.', '\"That\\'s', 'Kronos', 'eating', 'his', 'kids,', 'right?']]\n"
     ]
    }
   ],
   "source": [
    "#for the gensim thing we need data separated by sentences\n",
    "#readline and add data line by line\n",
    "def read_custom_file_linebyline(filename):\n",
    "    all_lines=[]\n",
    "    f=open(filename,'r')\n",
    "    for line in f.readlines():\n",
    "        data=tf.compat.as_str(line).split()\n",
    "        #now we have a list of words, add this to the matrix\n",
    "        if(data != []):\n",
    "            all_lines.append(data)\n",
    "            #print(data)\n",
    "    return all_lines\n",
    "filename = 'C:/Users/RAHUL/projects/percy.txt'\n",
    "words=read_custom_file_linebyline(filename)\n",
    "print(words)"
   ]
  },
  {
   "cell_type": "code",
   "execution_count": 7,
   "metadata": {},
   "outputs": [
    {
     "name": "stderr",
     "output_type": "stream",
     "text": [
      "c:\\users\\rahul\\anaconda3\\envs\\miniproj2\\lib\\site-packages\\gensim\\utils.py:1212: UserWarning: detected Windows; aliasing chunkize to chunkize_serial\n",
      "  warnings.warn(\"detected Windows; aliasing chunkize to chunkize_serial\")\n",
      "2018-10-19 09:49:43,105 : INFO : collecting all words and their counts\n",
      "2018-10-19 09:49:43,105 : INFO : PROGRESS: at sentence #0, processed 0 words, keeping 0 word types\n",
      "2018-10-19 09:49:43,106 : INFO : collected 58 word types from a corpus of 68 raw words and 5 sentences\n",
      "2018-10-19 09:49:43,108 : INFO : Loading a fresh vocabulary\n",
      "2018-10-19 09:49:43,109 : INFO : effective_min_count=1 retains 58 unique words (100% of original 58, drops 0)\n",
      "2018-10-19 09:49:43,112 : INFO : effective_min_count=1 leaves 68 word corpus (100% of original 68, drops 0)\n",
      "2018-10-19 09:49:43,114 : INFO : deleting the raw counts dictionary of 58 items\n",
      "2018-10-19 09:49:43,117 : INFO : sample=0.001 downsamples 58 most-common words\n",
      "2018-10-19 09:49:43,118 : INFO : downsampling leaves estimated 20 word corpus (29.6% of prior 68)\n",
      "2018-10-19 09:49:43,119 : INFO : estimated required memory for 58 words and 300 dimensions: 168200 bytes\n",
      "2018-10-19 09:49:43,121 : INFO : resetting layer weights\n",
      "2018-10-19 09:49:43,134 : INFO : training model with 3 workers on 58 vocabulary and 300 features, using sg=0 hs=0 sample=0.001 negative=5 window=3\n",
      "2018-10-19 09:49:43,142 : INFO : worker thread finished; awaiting finish of 2 more threads\n",
      "2018-10-19 09:49:43,143 : INFO : worker thread finished; awaiting finish of 1 more threads\n",
      "2018-10-19 09:49:43,148 : INFO : worker thread finished; awaiting finish of 0 more threads\n",
      "2018-10-19 09:49:43,149 : INFO : EPOCH - 1 : training on 68 raw words (25 effective words) took 0.0s, 2922 effective words/s\n",
      "2018-10-19 09:49:43,162 : INFO : worker thread finished; awaiting finish of 2 more threads\n",
      "2018-10-19 09:49:43,164 : INFO : worker thread finished; awaiting finish of 1 more threads\n",
      "2018-10-19 09:49:43,165 : INFO : worker thread finished; awaiting finish of 0 more threads\n",
      "2018-10-19 09:49:43,167 : INFO : EPOCH - 2 : training on 68 raw words (19 effective words) took 0.0s, 2447 effective words/s\n",
      "2018-10-19 09:49:43,173 : INFO : worker thread finished; awaiting finish of 2 more threads\n",
      "2018-10-19 09:49:43,175 : INFO : worker thread finished; awaiting finish of 1 more threads\n",
      "2018-10-19 09:49:43,176 : INFO : worker thread finished; awaiting finish of 0 more threads\n",
      "2018-10-19 09:49:43,180 : INFO : EPOCH - 3 : training on 68 raw words (20 effective words) took 0.0s, 2682 effective words/s\n",
      "2018-10-19 09:49:43,191 : INFO : worker thread finished; awaiting finish of 2 more threads\n",
      "2018-10-19 09:49:43,192 : INFO : worker thread finished; awaiting finish of 1 more threads\n",
      "2018-10-19 09:49:43,193 : INFO : worker thread finished; awaiting finish of 0 more threads\n",
      "2018-10-19 09:49:43,195 : INFO : EPOCH - 4 : training on 68 raw words (13 effective words) took 0.0s, 2194 effective words/s\n",
      "2018-10-19 09:49:43,215 : INFO : worker thread finished; awaiting finish of 2 more threads\n",
      "2018-10-19 09:49:43,216 : INFO : worker thread finished; awaiting finish of 1 more threads\n",
      "2018-10-19 09:49:43,218 : INFO : worker thread finished; awaiting finish of 0 more threads\n",
      "2018-10-19 09:49:43,219 : INFO : EPOCH - 5 : training on 68 raw words (18 effective words) took 0.0s, 2943 effective words/s\n",
      "2018-10-19 09:49:43,234 : INFO : worker thread finished; awaiting finish of 2 more threads\n",
      "2018-10-19 09:49:43,235 : INFO : worker thread finished; awaiting finish of 1 more threads\n",
      "2018-10-19 09:49:43,237 : INFO : worker thread finished; awaiting finish of 0 more threads\n",
      "2018-10-19 09:49:43,242 : INFO : EPOCH - 6 : training on 68 raw words (22 effective words) took 0.0s, 2306 effective words/s\n",
      "2018-10-19 09:49:43,253 : INFO : worker thread finished; awaiting finish of 2 more threads\n",
      "2018-10-19 09:49:43,255 : INFO : worker thread finished; awaiting finish of 1 more threads\n",
      "2018-10-19 09:49:43,255 : INFO : worker thread finished; awaiting finish of 0 more threads\n",
      "2018-10-19 09:49:43,257 : INFO : EPOCH - 7 : training on 68 raw words (20 effective words) took 0.0s, 4847 effective words/s\n",
      "2018-10-19 09:49:43,264 : INFO : worker thread finished; awaiting finish of 2 more threads\n",
      "2018-10-19 09:49:43,266 : INFO : worker thread finished; awaiting finish of 1 more threads\n",
      "2018-10-19 09:49:43,267 : INFO : worker thread finished; awaiting finish of 0 more threads\n",
      "2018-10-19 09:49:43,268 : INFO : EPOCH - 8 : training on 68 raw words (25 effective words) took 0.0s, 5048 effective words/s\n",
      "2018-10-19 09:49:43,279 : INFO : worker thread finished; awaiting finish of 2 more threads\n",
      "2018-10-19 09:49:43,280 : INFO : worker thread finished; awaiting finish of 1 more threads\n",
      "2018-10-19 09:49:43,281 : INFO : worker thread finished; awaiting finish of 0 more threads\n",
      "2018-10-19 09:49:43,282 : INFO : EPOCH - 9 : training on 68 raw words (18 effective words) took 0.0s, 3442 effective words/s\n",
      "2018-10-19 09:49:43,300 : INFO : worker thread finished; awaiting finish of 2 more threads\n",
      "2018-10-19 09:49:43,302 : INFO : worker thread finished; awaiting finish of 1 more threads\n",
      "2018-10-19 09:49:43,303 : INFO : worker thread finished; awaiting finish of 0 more threads\n",
      "2018-10-19 09:49:43,305 : INFO : EPOCH - 10 : training on 68 raw words (19 effective words) took 0.0s, 2857 effective words/s\n",
      "2018-10-19 09:49:43,306 : INFO : training on a 680 raw words (199 effective words) took 0.2s, 1167 effective words/s\n",
      "2018-10-19 09:49:43,308 : WARNING : under 10 jobs per worker: consider setting a smaller `batch_words' for smoother alpha decay\n"
     ]
    }
   ],
   "source": [
    "import gensim, logging\n",
    "logging.basicConfig(format='%(asctime)s : %(levelname)s : %(message)s', level=logging.INFO)\n",
    "\n",
    "# train word2vec on the two sentences\n",
    "model = gensim.models.Word2Vec(words,size=300,window=3, min_count=1,iter=10)"
   ]
  },
  {
   "cell_type": "code",
   "execution_count": 11,
   "metadata": {},
   "outputs": [
    {
     "name": "stdout",
     "output_type": "stream",
     "text": [
      "(300,)\n",
      "(1, 300)\n",
      "[[-3.6904145e-05  1.0795539e-03  1.1947537e-03 -1.2988808e-04\n",
      "   1.5429107e-03 -1.2444813e-03  6.6563161e-04 -7.6830742e-04\n",
      "   8.6128298e-04 -1.4446678e-03 -9.5189236e-05 -1.1730833e-04\n",
      "  -4.3642681e-04 -3.0697274e-04  8.2042505e-04 -1.3779040e-03\n",
      "   4.2944288e-04  2.9692618e-04  7.1523833e-04 -6.7498139e-04\n",
      "  -9.3224010e-04  7.9795223e-04 -2.1407113e-04 -6.3870783e-04\n",
      "  -1.6693674e-03 -5.6517753e-04  1.2534828e-03 -2.6711705e-04\n",
      "   1.5669210e-04  1.5031031e-03  7.6136668e-04 -8.9950149e-04\n",
      "  -1.0244480e-03 -4.8068678e-04 -1.0754379e-03  1.3570610e-03\n",
      "   2.0657488e-04  1.3203558e-03  8.1360375e-04 -1.3604634e-03\n",
      "  -1.0406030e-03  8.5180323e-04  1.5880089e-03 -1.2675759e-03\n",
      "  -3.9452035e-04 -6.1134662e-04  1.2737444e-03  8.7190763e-04\n",
      "  -1.3962912e-03  4.9761438e-04 -1.5617847e-03  2.3381859e-04\n",
      "   1.2498250e-03 -1.1877819e-03 -1.6027093e-03  2.6541468e-04\n",
      "   3.8783916e-04  1.4739652e-03  3.5583659e-04  7.4912352e-04\n",
      "  -2.3511951e-04  7.3285133e-04 -1.3257676e-03 -6.8873045e-04\n",
      "   1.6293279e-03  1.4967865e-03 -2.9653718e-04 -1.9968230e-04\n",
      "   6.6636933e-04 -2.1168766e-04 -1.0786048e-03 -6.7743764e-04\n",
      "  -9.7276870e-04 -2.1574144e-04 -1.4501001e-03  1.3672050e-04\n",
      "   1.2743070e-03  1.2570661e-03  1.0116132e-03 -1.3192428e-03\n",
      "  -1.5618600e-03 -1.2775494e-03 -1.0627388e-03 -5.1271668e-06\n",
      "  -1.0744834e-03 -2.8722457e-04 -2.6341149e-04 -3.0265344e-04\n",
      "   1.9662306e-04 -3.5424170e-04 -1.6379736e-03 -1.0544882e-03\n",
      "   2.4167787e-04  4.2367628e-04  7.6403009e-04 -4.9748830e-04\n",
      "   1.0342668e-03 -6.3719740e-04 -1.6461307e-03 -1.2193632e-03\n",
      "  -6.6561741e-04 -4.9451413e-04 -1.0372482e-03  9.8991254e-04\n",
      "   3.8267219e-05  1.5572592e-03 -1.4768752e-03 -1.8889451e-04\n",
      "   6.8205438e-04  1.6603497e-03 -1.5924763e-03  6.0574437e-04\n",
      "   1.5151124e-03 -1.5961898e-03  4.5070765e-04 -6.5601163e-04\n",
      "  -1.1173425e-03  1.4050511e-03 -1.5454715e-03  3.0857782e-04\n",
      "  -3.9478214e-04 -5.9341267e-04 -1.4704131e-03  9.1720118e-05\n",
      "   9.6238259e-04  8.4652893e-05  1.3391065e-03  5.6368863e-04\n",
      "   1.6553006e-04 -2.8154589e-04 -5.1660213e-04  7.6339958e-04\n",
      "  -5.3096132e-04  1.4516524e-03  5.1599537e-04  1.1712431e-04\n",
      "   3.3389675e-04 -7.9008089e-05  1.2946549e-03 -1.3461591e-03\n",
      "   1.6688535e-03 -6.9641770e-04  2.7938496e-04  8.5297960e-04\n",
      "  -3.0314361e-04 -5.4593512e-04 -4.3604570e-04 -2.7841507e-04\n",
      "  -3.2362682e-04 -7.0377393e-04  1.1627432e-03 -1.0026287e-03\n",
      "   2.7385290e-04  4.6503908e-04  3.0673126e-04  2.6480059e-04\n",
      "   9.4676111e-04 -1.8095308e-04  1.6910386e-04  5.6825520e-04\n",
      "   5.3120162e-05 -1.4690409e-04  1.0321221e-03 -3.6032833e-04\n",
      "  -1.9250299e-04 -5.8331317e-04 -1.3296786e-03 -1.7285145e-04\n",
      "   1.4725629e-03  1.4348857e-03  1.1269843e-03 -6.5537466e-04\n",
      "  -3.5920544e-04 -2.9401589e-04  6.1081036e-04  2.4491933e-04\n",
      "  -1.8776083e-04  8.5596082e-05  5.5008085e-04  1.4177809e-03\n",
      "  -1.6038470e-03 -1.6545993e-03  4.7865306e-04  1.4205555e-05\n",
      "  -5.4603497e-05  4.0014068e-04 -2.6501407e-04  8.0816355e-04\n",
      "   1.4876156e-03  8.9104008e-04 -7.5576175e-04  2.4129638e-04\n",
      "  -1.9207748e-05  1.6068501e-03  1.0705043e-03  1.0182033e-03\n",
      "   1.0599131e-03 -1.5310345e-04 -1.6136783e-03 -1.1125732e-03\n",
      "  -2.4404206e-04 -7.5971457e-04 -2.9043257e-04 -9.3365094e-04\n",
      "   1.3144313e-03  1.6715938e-05 -9.6255541e-04  1.2558914e-03\n",
      "   1.9128776e-04 -7.3550222e-04 -6.7051669e-04 -7.7792822e-04\n",
      "  -1.6429664e-03 -4.0719079e-04 -6.5696001e-04  1.3276016e-04\n",
      "  -1.3813277e-03 -9.1600377e-06  1.1534775e-03  9.7781478e-04\n",
      "  -2.9059697e-04 -1.1650668e-03 -1.2322268e-03  1.3615775e-03\n",
      "  -8.9070940e-04 -1.1987003e-03 -1.4064257e-03  1.5279155e-03\n",
      "  -2.1466783e-05  6.3548255e-04 -1.6546971e-03 -3.2480192e-04\n",
      "  -9.1530546e-04 -3.4740398e-04 -3.5513531e-05  1.6832439e-04\n",
      "   5.1931693e-04  5.7842617e-04  1.1153630e-03 -5.7026096e-05\n",
      "  -1.5442247e-03  1.2487418e-03  2.7703587e-04  4.2761891e-04\n",
      "   5.9120025e-04  1.4406209e-03  7.6847209e-04 -8.2445191e-04\n",
      "   9.9326462e-05  6.5030454e-04 -1.2753073e-03  7.6987856e-04\n",
      "   1.6515428e-04  1.4010635e-03  1.5482521e-03 -1.2318119e-03\n",
      "   2.2287582e-04  7.5444335e-04  1.2300543e-03  7.2555529e-04\n",
      "  -1.6054661e-03 -6.5618270e-04  1.5524813e-04  1.0912102e-03\n",
      "  -1.7108420e-04 -1.1457412e-03  8.6529454e-04  1.4078538e-03\n",
      "  -7.7492563e-04  9.8389224e-04 -8.3523337e-05  2.6687668e-04\n",
      "  -9.3489577e-04  1.0720611e-03  1.5859680e-03  1.0701150e-03\n",
      "   1.2361766e-03  7.9481943e-05 -8.0861367e-04  4.6365478e-04\n",
      "   3.6682084e-04 -1.6639642e-03 -1.0168863e-03 -1.5443264e-03\n",
      "  -1.0834216e-03  6.9753575e-04  1.6356788e-03  3.2365738e-04\n",
      "  -1.0614812e-03 -5.6142308e-04  7.9607818e-04  5.0019549e-05\n",
      "   1.3659351e-03  1.6527452e-03 -1.9509498e-04 -7.5807387e-04\n",
      "  -1.5879689e-03  1.2715210e-04 -1.6512393e-04 -5.2051252e-04]]\n"
     ]
    }
   ],
   "source": [
    "vector = model.wv['Kronos']  # numpy vector of a word\n",
    "print(vector.shape)\n",
    "y = np.expand_dims(vector, axis=0)\n",
    "print(y.shape)\n",
    "print(y)"
   ]
  },
  {
   "cell_type": "code",
   "execution_count": 12,
   "metadata": {},
   "outputs": [
    {
     "name": "stderr",
     "output_type": "stream",
     "text": [
      "c:\\users\\rahul\\anaconda3\\envs\\miniproj2\\lib\\site-packages\\gensim\\matutils.py:737: FutureWarning: Conversion of the second argument of issubdtype from `int` to `np.signedinteger` is deprecated. In future, it will be treated as `np.int32 == np.dtype(int).type`.\n",
      "  if np.issubdtype(vec.dtype, np.int):\n"
     ]
    },
    {
     "data": {
      "text/plain": [
       "-0.14227733"
      ]
     },
     "execution_count": 12,
     "metadata": {},
     "output_type": "execute_result"
    }
   ],
   "source": [
    "model.wv.similarity('Kronos', 'I')"
   ]
  },
  {
   "cell_type": "code",
   "execution_count": 13,
   "metadata": {},
   "outputs": [
    {
     "name": "stderr",
     "output_type": "stream",
     "text": [
      "2018-10-19 09:51:30,646 : INFO : precomputing L2-norms of word weight vectors\n"
     ]
    },
    {
     "data": {
      "text/plain": [
       "[('at', 0.1684962511062622),\n",
       " ('what', 0.10657182335853577),\n",
       " ('picture', 0.10452041029930115),\n",
       " ('one', 0.10095405578613281),\n",
       " ('because', 0.09416482597589493),\n",
       " ('stopped', 0.09247507899999619),\n",
       " ('Mr.', 0.09109357744455338),\n",
       " ('pictures', 0.08199785649776459),\n",
       " ('Brunner', 0.07445614039897919),\n",
       " ('and', 0.07153390347957611)]"
      ]
     },
     "execution_count": 13,
     "metadata": {},
     "output_type": "execute_result"
    }
   ],
   "source": [
    "model.wv.most_similar(positive=['Kronos'])"
   ]
  },
  {
   "cell_type": "code",
   "execution_count": 14,
   "metadata": {},
   "outputs": [
    {
     "data": {
      "text/plain": [
       "[('at', 0.17904503643512726),\n",
       " ('Brunner', 0.12191884219646454),\n",
       " ('what', 0.11968514323234558),\n",
       " ('because', 0.09818685054779053),\n",
       " ('pictures', 0.0840657502412796)]"
      ]
     },
     "execution_count": 14,
     "metadata": {},
     "output_type": "execute_result"
    }
   ],
   "source": [
    "model.wv.most_similar(positive=['Kronos'], negative=['kids,'],topn=5)\n",
    "#model.wv.doesnt_match(\"breakfast cereal dinner lunch\".split())\n",
    "#this returns the word in the list that doesnt match"
   ]
  },
  {
   "cell_type": "code",
   "execution_count": 15,
   "metadata": {},
   "outputs": [
    {
     "name": "stdout",
     "output_type": "stream",
     "text": [
      "(58, 300)\n"
     ]
    },
    {
     "name": "stderr",
     "output_type": "stream",
     "text": [
      "c:\\users\\rahul\\anaconda3\\envs\\miniproj2\\lib\\site-packages\\ipykernel_launcher.py:2: DeprecationWarning: Call to deprecated `__getitem__` (Method will be removed in 4.0.0, use self.wv.__getitem__() instead).\n",
      "  \n"
     ]
    }
   ],
   "source": [
    "vocab = list(model.wv.vocab)\n",
    "X = model[vocab]\n",
    "print(X.shape)"
   ]
  },
  {
   "cell_type": "code",
   "execution_count": 16,
   "metadata": {},
   "outputs": [
    {
     "name": "stdout",
     "output_type": "stream",
     "text": [
      "['The', 'whole', 'group', 'laughed.', 'Mr.', 'Brunner', 'stopped', 'his', 'story.', '\"Mr.', 'Jackson,\"', 'he', 'said,', '\"did', 'you', 'have', 'a', 'comment?\"', 'My', 'face', 'was', 'totally', 'red.', 'I', 'said,', '\"No,', 'sir.\"', 'Mr.', 'Brunner', 'pointed', 'to', 'one', 'of', 'the', 'pictures', 'on', 'the', 'stele.', '\"Perhaps', \"you'll\", 'tell', 'us', 'what', 'this', 'picture', 'represents?\"', 'I', 'looked', 'at', 'the', 'carving,', 'and', 'felt', 'a', 'flush', 'of', 'relief,', 'because', 'I', 'actually', 'recognized', 'it.', '\"That\\'s', 'Kronos', 'eating', 'his', 'kids,', 'right?']\n"
     ]
    }
   ],
   "source": [
    "word_list=read_custom_file('C:/Users/RAHUL/projects/percy.txt')\n",
    "print(word_list)"
   ]
  },
  {
   "cell_type": "code",
   "execution_count": 18,
   "metadata": {},
   "outputs": [],
   "source": [
    "## Plotting function\n",
    "def plot_words(data, start, stop, step,filename):\n",
    "    word_list=read_custom_file(filename)\n",
    "    trace = go.Scatter(\n",
    "        x = data[start:stop:step,0], \n",
    "        y = data[start:stop:step, 1],\n",
    "        mode = 'markers',\n",
    "        text= word_list[start:stop:step]\n",
    "    )\n",
    "    layout = dict(title= 't-SNE 1 vs t-SNE 2',\n",
    "                  yaxis = dict(title='t-SNE 2'),\n",
    "                  xaxis = dict(title='t-SNE 1'),\n",
    "                  hovermode= 'closest')\n",
    "    fig = dict(data = [trace], layout= layout)\n",
    "    #py.iplot(fig)\n",
    "    return fig\n",
    "\n",
    "## Visualize words in two dimensions \n",
    "def visualize(X):\n",
    "    #alright now visualize word embeddings\n",
    "    conv_embds = X\n",
    "    conv_tsne_embds = TSNE(n_components=2).fit_transform(conv_embds)\n",
    "    fig=plot_words(conv_tsne_embds, 0, 2000, 1,filename)\n",
    "    py.iplot(fig)"
   ]
  },
  {
   "cell_type": "code",
   "execution_count": 21,
   "metadata": {},
   "outputs": [
    {
     "data": {
      "application/vnd.plotly.v1+json": {
       "data": [
        {
         "mode": "markers",
         "text": [
          "The",
          "whole",
          "group",
          "laughed.",
          "Mr.",
          "Brunner",
          "stopped",
          "his",
          "story.",
          "\"Mr.",
          "Jackson,\"",
          "he",
          "said,",
          "\"did",
          "you",
          "have",
          "a",
          "comment?\"",
          "My",
          "face",
          "was",
          "totally",
          "red.",
          "I",
          "said,",
          "\"No,",
          "sir.\"",
          "Mr.",
          "Brunner",
          "pointed",
          "to",
          "one",
          "of",
          "the",
          "pictures",
          "on",
          "the",
          "stele.",
          "\"Perhaps",
          "you'll",
          "tell",
          "us",
          "what",
          "this",
          "picture",
          "represents?\"",
          "I",
          "looked",
          "at",
          "the",
          "carving,",
          "and",
          "felt",
          "a",
          "flush",
          "of",
          "relief,",
          "because",
          "I",
          "actually",
          "recognized",
          "it.",
          "\"That's",
          "Kronos",
          "eating",
          "his",
          "kids,",
          "right?"
         ],
         "type": "scatter",
         "uid": "98622378-d357-11e8-8708-485ab6c9156c",
         "x": [
          -13.4302396774292,
          2.503662347793579,
          54.69375991821289,
          -18.787641525268555,
          -35.99775695800781,
          -31.4981689453125,
          5.965712070465088,
          -21.76960563659668,
          -41.28147888183594,
          16.004165649414062,
          -53.13356018066406,
          52.41594314575195,
          32.15895080566406,
          27.397737503051758,
          0.35017064213752747,
          -52.21990966796875,
          35.448246002197266,
          41.86471939086914,
          10.271549224853516,
          28.478172302246094,
          -17.084735870361328,
          -19.950979232788086,
          -40.14655685424805,
          3.3146793842315674,
          -45.09284210205078,
          20.08738136291504,
          10.295811653137207,
          40.122520446777344,
          5.844141006469727,
          -9.010512351989746,
          -17.551715850830078,
          -13.533696174621582,
          9.910689353942871,
          -51.051002502441406,
          27.29590606689453,
          30.3068790435791,
          46.68265151977539,
          -8.624996185302734,
          57.62801742553711,
          32.36319351196289,
          -18.17340850830078,
          -6.019662857055664,
          -54.30036544799805,
          -4.953510761260986,
          -22.269243240356445,
          17.51502799987793,
          -25.730688095092773,
          12.658427238464355,
          19.134647369384766,
          -0.5140184760093689,
          26.690561294555664,
          -29.082260131835938,
          16.110605239868164,
          -36.205360412597656,
          -4.924440383911133,
          -8.35104751586914,
          -38.41307830810547,
          -29.855615615844727
         ],
         "y": [
          -52.47239303588867,
          12.8154878616333,
          26.59868049621582,
          -8.65996265411377,
          -46.9750862121582,
          0.3002844750881195,
          -16.967588424682617,
          46.81199645996094,
          39.38011932373047,
          7.609772205352783,
          14.707645416259766,
          -2.992713689804077,
          26.183320999145508,
          -15.859968185424805,
          65.128662109375,
          50.4804573059082,
          39.040706634521484,
          11.46688461303711,
          -40.95264434814453,
          -42.58273696899414,
          59.06150436401367,
          22.492694854736328,
          -6.643298625946045,
          31.460851669311523,
          28.556903839111328,
          20.324657440185547,
          22.578752517700195,
          -27.3214111328125,
          -0.13277709484100342,
          25.63458251953125,
          2.6017775535583496,
          -24.1247501373291,
          -53.314109802246094,
          1.6960705518722534,
          67.42047882080078,
          50.67689514160156,
          -12.784235954284668,
          11.703887939453125,
          -19.556901931762695,
          -4.1949143409729,
          35.07557678222656,
          44.17599105834961,
          -27.915027618408203,
          -1.3314403295516968,
          -34.46406936645508,
          34.91521072387695,
          -18.401945114135742,
          48.6480598449707,
          -7.646897315979004,
          -29.58905029296875,
          9.323068618774414,
          13.023164749145508,
          -29.101179122924805,
          -30.051267623901367,
          -10.774894714355469,
          -39.608829498291016,
          54.621253967285156,
          28.17535400390625
         ]
        }
       ],
       "layout": {
        "hovermode": "closest",
        "title": "t-SNE 1 vs t-SNE 2",
        "xaxis": {
         "title": "t-SNE 1"
        },
        "yaxis": {
         "title": "t-SNE 2"
        }
       }
      },
      "text/html": [
       "<div id=\"f6c8da85-cacc-4db4-91c8-cd8fb0d9e849\" style=\"height: 525px; width: 100%;\" class=\"plotly-graph-div\"></div><script type=\"text/javascript\">require([\"plotly\"], function(Plotly) { window.PLOTLYENV=window.PLOTLYENV || {};window.PLOTLYENV.BASE_URL=\"https://plot.ly\";Plotly.newPlot(\"f6c8da85-cacc-4db4-91c8-cd8fb0d9e849\", [{\"mode\": \"markers\", \"text\": [\"The\", \"whole\", \"group\", \"laughed.\", \"Mr.\", \"Brunner\", \"stopped\", \"his\", \"story.\", \"\\\"Mr.\", \"Jackson,\\\"\", \"he\", \"said,\", \"\\\"did\", \"you\", \"have\", \"a\", \"comment?\\\"\", \"My\", \"face\", \"was\", \"totally\", \"red.\", \"I\", \"said,\", \"\\\"No,\", \"sir.\\\"\", \"Mr.\", \"Brunner\", \"pointed\", \"to\", \"one\", \"of\", \"the\", \"pictures\", \"on\", \"the\", \"stele.\", \"\\\"Perhaps\", \"you'll\", \"tell\", \"us\", \"what\", \"this\", \"picture\", \"represents?\\\"\", \"I\", \"looked\", \"at\", \"the\", \"carving,\", \"and\", \"felt\", \"a\", \"flush\", \"of\", \"relief,\", \"because\", \"I\", \"actually\", \"recognized\", \"it.\", \"\\\"That's\", \"Kronos\", \"eating\", \"his\", \"kids,\", \"right?\"], \"x\": [-13.4302396774292, 2.503662347793579, 54.69375991821289, -18.787641525268555, -35.99775695800781, -31.4981689453125, 5.965712070465088, -21.76960563659668, -41.28147888183594, 16.004165649414062, -53.13356018066406, 52.41594314575195, 32.15895080566406, 27.397737503051758, 0.35017064213752747, -52.21990966796875, 35.448246002197266, 41.86471939086914, 10.271549224853516, 28.478172302246094, -17.084735870361328, -19.950979232788086, -40.14655685424805, 3.3146793842315674, -45.09284210205078, 20.08738136291504, 10.295811653137207, 40.122520446777344, 5.844141006469727, -9.010512351989746, -17.551715850830078, -13.533696174621582, 9.910689353942871, -51.051002502441406, 27.29590606689453, 30.3068790435791, 46.68265151977539, -8.624996185302734, 57.62801742553711, 32.36319351196289, -18.17340850830078, -6.019662857055664, -54.30036544799805, -4.953510761260986, -22.269243240356445, 17.51502799987793, -25.730688095092773, 12.658427238464355, 19.134647369384766, -0.5140184760093689, 26.690561294555664, -29.082260131835938, 16.110605239868164, -36.205360412597656, -4.924440383911133, -8.35104751586914, -38.41307830810547, -29.855615615844727], \"y\": [-52.47239303588867, 12.8154878616333, 26.59868049621582, -8.65996265411377, -46.9750862121582, 0.3002844750881195, -16.967588424682617, 46.81199645996094, 39.38011932373047, 7.609772205352783, 14.707645416259766, -2.992713689804077, 26.183320999145508, -15.859968185424805, 65.128662109375, 50.4804573059082, 39.040706634521484, 11.46688461303711, -40.95264434814453, -42.58273696899414, 59.06150436401367, 22.492694854736328, -6.643298625946045, 31.460851669311523, 28.556903839111328, 20.324657440185547, 22.578752517700195, -27.3214111328125, -0.13277709484100342, 25.63458251953125, 2.6017775535583496, -24.1247501373291, -53.314109802246094, 1.6960705518722534, 67.42047882080078, 50.67689514160156, -12.784235954284668, 11.703887939453125, -19.556901931762695, -4.1949143409729, 35.07557678222656, 44.17599105834961, -27.915027618408203, -1.3314403295516968, -34.46406936645508, 34.91521072387695, -18.401945114135742, 48.6480598449707, -7.646897315979004, -29.58905029296875, 9.323068618774414, 13.023164749145508, -29.101179122924805, -30.051267623901367, -10.774894714355469, -39.608829498291016, 54.621253967285156, 28.17535400390625], \"type\": \"scatter\", \"uid\": \"98ef7adc-d357-11e8-a35e-485ab6c9156c\"}], {\"hovermode\": \"closest\", \"title\": \"t-SNE 1 vs t-SNE 2\", \"xaxis\": {\"title\": \"t-SNE 1\"}, \"yaxis\": {\"title\": \"t-SNE 2\"}}, {\"showLink\": true, \"linkText\": \"Export to plot.ly\"})});</script>"
      ],
      "text/vnd.plotly.v1+html": [
       "<div id=\"f6c8da85-cacc-4db4-91c8-cd8fb0d9e849\" style=\"height: 525px; width: 100%;\" class=\"plotly-graph-div\"></div><script type=\"text/javascript\">require([\"plotly\"], function(Plotly) { window.PLOTLYENV=window.PLOTLYENV || {};window.PLOTLYENV.BASE_URL=\"https://plot.ly\";Plotly.newPlot(\"f6c8da85-cacc-4db4-91c8-cd8fb0d9e849\", [{\"mode\": \"markers\", \"text\": [\"The\", \"whole\", \"group\", \"laughed.\", \"Mr.\", \"Brunner\", \"stopped\", \"his\", \"story.\", \"\\\"Mr.\", \"Jackson,\\\"\", \"he\", \"said,\", \"\\\"did\", \"you\", \"have\", \"a\", \"comment?\\\"\", \"My\", \"face\", \"was\", \"totally\", \"red.\", \"I\", \"said,\", \"\\\"No,\", \"sir.\\\"\", \"Mr.\", \"Brunner\", \"pointed\", \"to\", \"one\", \"of\", \"the\", \"pictures\", \"on\", \"the\", \"stele.\", \"\\\"Perhaps\", \"you'll\", \"tell\", \"us\", \"what\", \"this\", \"picture\", \"represents?\\\"\", \"I\", \"looked\", \"at\", \"the\", \"carving,\", \"and\", \"felt\", \"a\", \"flush\", \"of\", \"relief,\", \"because\", \"I\", \"actually\", \"recognized\", \"it.\", \"\\\"That's\", \"Kronos\", \"eating\", \"his\", \"kids,\", \"right?\"], \"x\": [-13.4302396774292, 2.503662347793579, 54.69375991821289, -18.787641525268555, -35.99775695800781, -31.4981689453125, 5.965712070465088, -21.76960563659668, -41.28147888183594, 16.004165649414062, -53.13356018066406, 52.41594314575195, 32.15895080566406, 27.397737503051758, 0.35017064213752747, -52.21990966796875, 35.448246002197266, 41.86471939086914, 10.271549224853516, 28.478172302246094, -17.084735870361328, -19.950979232788086, -40.14655685424805, 3.3146793842315674, -45.09284210205078, 20.08738136291504, 10.295811653137207, 40.122520446777344, 5.844141006469727, -9.010512351989746, -17.551715850830078, -13.533696174621582, 9.910689353942871, -51.051002502441406, 27.29590606689453, 30.3068790435791, 46.68265151977539, -8.624996185302734, 57.62801742553711, 32.36319351196289, -18.17340850830078, -6.019662857055664, -54.30036544799805, -4.953510761260986, -22.269243240356445, 17.51502799987793, -25.730688095092773, 12.658427238464355, 19.134647369384766, -0.5140184760093689, 26.690561294555664, -29.082260131835938, 16.110605239868164, -36.205360412597656, -4.924440383911133, -8.35104751586914, -38.41307830810547, -29.855615615844727], \"y\": [-52.47239303588867, 12.8154878616333, 26.59868049621582, -8.65996265411377, -46.9750862121582, 0.3002844750881195, -16.967588424682617, 46.81199645996094, 39.38011932373047, 7.609772205352783, 14.707645416259766, -2.992713689804077, 26.183320999145508, -15.859968185424805, 65.128662109375, 50.4804573059082, 39.040706634521484, 11.46688461303711, -40.95264434814453, -42.58273696899414, 59.06150436401367, 22.492694854736328, -6.643298625946045, 31.460851669311523, 28.556903839111328, 20.324657440185547, 22.578752517700195, -27.3214111328125, -0.13277709484100342, 25.63458251953125, 2.6017775535583496, -24.1247501373291, -53.314109802246094, 1.6960705518722534, 67.42047882080078, 50.67689514160156, -12.784235954284668, 11.703887939453125, -19.556901931762695, -4.1949143409729, 35.07557678222656, 44.17599105834961, -27.915027618408203, -1.3314403295516968, -34.46406936645508, 34.91521072387695, -18.401945114135742, 48.6480598449707, -7.646897315979004, -29.58905029296875, 9.323068618774414, 13.023164749145508, -29.101179122924805, -30.051267623901367, -10.774894714355469, -39.608829498291016, 54.621253967285156, 28.17535400390625], \"type\": \"scatter\", \"uid\": \"98ef7adc-d357-11e8-a35e-485ab6c9156c\"}], {\"hovermode\": \"closest\", \"title\": \"t-SNE 1 vs t-SNE 2\", \"xaxis\": {\"title\": \"t-SNE 1\"}, \"yaxis\": {\"title\": \"t-SNE 2\"}}, {\"showLink\": true, \"linkText\": \"Export to plot.ly\"})});</script>"
      ]
     },
     "metadata": {},
     "output_type": "display_data"
    }
   ],
   "source": [
    "#to visualize wordembeddings\n",
    "visualize(X)"
   ]
  },
  {
   "cell_type": "code",
   "execution_count": null,
   "metadata": {},
   "outputs": [],
   "source": [
    "#To plot loss curve check : https://github.com/RaRe-Technologies/gensim/blob/develop/docs/notebooks/word2vec.ipynb"
   ]
  }
 ],
 "metadata": {
  "kernelspec": {
   "display_name": "Python 3",
   "language": "python",
   "name": "python3"
  },
  "language_info": {
   "codemirror_mode": {
    "name": "ipython",
    "version": 3
   },
   "file_extension": ".py",
   "mimetype": "text/x-python",
   "name": "python",
   "nbconvert_exporter": "python",
   "pygments_lexer": "ipython3",
   "version": "3.6.6"
  }
 },
 "nbformat": 4,
 "nbformat_minor": 2
}
