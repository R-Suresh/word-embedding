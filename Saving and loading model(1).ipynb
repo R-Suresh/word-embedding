{
 "cells": [
  {
   "cell_type": "code",
   "execution_count": 5,
   "metadata": {},
   "outputs": [
    {
     "data": {
      "text/html": [
       "<script>requirejs.config({paths: { 'plotly': ['https://cdn.plot.ly/plotly-latest.min']},});if(!window.Plotly) {{require(['plotly'],function(plotly) {window.Plotly=plotly;});}}</script>"
      ],
      "text/vnd.plotly.v1+html": [
       "<script>requirejs.config({paths: { 'plotly': ['https://cdn.plot.ly/plotly-latest.min']},});if(!window.Plotly) {{require(['plotly'],function(plotly) {window.Plotly=plotly;});}}</script>"
      ]
     },
     "metadata": {},
     "output_type": "display_data"
    },
    {
     "name": "stderr",
     "output_type": "stream",
     "text": [
      "c:\\users\\rahul\\anaconda3\\envs\\miniproj2\\lib\\site-packages\\gensim\\utils.py:1212: UserWarning:\n",
      "\n",
      "detected Windows; aliasing chunkize to chunkize_serial\n",
      "\n"
     ]
    }
   ],
   "source": [
    "#loading and saving gensim models\n",
    "#for the gensim thing we need data separated by sentences\n",
    "#readline and add data line by line\n",
    "import tensorflow as tf\n",
    "import numpy as np\n",
    "from sklearn.manifold import TSNE\n",
    "import plotly.graph_objs as go\n",
    "import plotly.offline as py\n",
    "py.init_notebook_mode(connected=True)\n",
    "import gensim, logging\n"
   ]
  },
  {
   "cell_type": "code",
   "execution_count": 3,
   "metadata": {},
   "outputs": [],
   "source": [
    "\n",
    "def read_custom_file(filename):\n",
    "    data=tf.compat.as_str(open(filename,'r').read()).split()\n",
    "    return data\n",
    "def read_custom_file_linebyline(filename):\n",
    "    all_lines=[]\n",
    "    f=open(filename,'r')\n",
    "    for line in f.readlines():\n",
    "        data=tf.compat.as_str(line).split()\n",
    "        #now we have a list of words, add this to the matrix\n",
    "        if(data != []):\n",
    "            all_lines.append(data)\n",
    "            #print(data)\n",
    "    return all_lines\n",
    "filename = 'C:/Users/RAHUL/Downloads/simple-examples/data/ptb.train.txt'\n",
    "words=read_custom_file_linebyline(filename)\n",
    "#print(words)\n",
    "#words is to big to print"
   ]
  },
  {
   "cell_type": "code",
   "execution_count": null,
   "metadata": {},
   "outputs": [],
   "source": [
    "import gensim, logging\n",
    "logging.basicConfig(format='%(asctime)s : %(levelname)s : %(message)s', level=logging.INFO)\n",
    "\n",
    "# train word2vec on the two sentences\n",
    "#path = get_tmpfile(\"word2vec.model\")\n",
    "model = gensim.models.Word2Vec(words,size=500,window=5, min_count=1,iter=10)\n",
    "model.save(\"C:/Users/RAHUL/projects/word2vec_ptb.train.model\")"
   ]
  },
  {
   "cell_type": "code",
   "execution_count": 25,
   "metadata": {},
   "outputs": [
    {
     "name": "stderr",
     "output_type": "stream",
     "text": [
      "2018-10-19 17:12:41,758 : INFO : loading Word2Vec object from C:/Users/RAHUL/projects/word2vec_ptb.train.model\n",
      "2018-10-19 17:12:42,319 : INFO : loading wv recursively from C:/Users/RAHUL/projects/word2vec_ptb.train.model.wv.* with mmap=None\n",
      "2018-10-19 17:12:42,321 : INFO : setting ignored attribute vectors_norm to None\n",
      "2018-10-19 17:12:42,323 : INFO : loading vocabulary recursively from C:/Users/RAHUL/projects/word2vec_ptb.train.model.vocabulary.* with mmap=None\n",
      "2018-10-19 17:12:42,325 : INFO : loading trainables recursively from C:/Users/RAHUL/projects/word2vec_ptb.train.model.trainables.* with mmap=None\n",
      "2018-10-19 17:12:42,326 : INFO : setting ignored attribute cum_table to None\n",
      "2018-10-19 17:12:42,327 : INFO : loaded C:/Users/RAHUL/projects/word2vec_ptb.train.model\n"
     ]
    }
   ],
   "source": [
    "new_model = gensim.models.Word2Vec.load(\"C:/Users/RAHUL/projects/word2vec_ptb.train.model\")"
   ]
  },
  {
   "cell_type": "code",
   "execution_count": 8,
   "metadata": {},
   "outputs": [
    {
     "name": "stdout",
     "output_type": "stream",
     "text": [
      "(500,)\n",
      "(1, 500)\n",
      "[[-2.53537558e-02 -8.31006527e-01 -1.42283201e-01 -3.87945950e-01\n",
      "  -1.76270843e-01  4.75616269e-02  4.68052357e-01  3.55459243e-01\n",
      "  -8.71198848e-02 -3.93668339e-02  3.84156168e-01 -3.79993081e-01\n",
      "  -2.35076696e-01  4.06201810e-01  5.07395864e-01  4.35721911e-02\n",
      "  -6.31492585e-02 -5.59180975e-02 -2.44681373e-01  2.78162777e-01\n",
      "  -7.90696979e-01  7.81911075e-01  1.10711038e-01 -2.43350923e-01\n",
      "   1.43071145e-01 -7.70549104e-02  2.07132965e-01 -7.69103527e-01\n",
      "  -2.94596404e-01 -4.77101475e-01  3.07733417e-01  2.29731694e-01\n",
      "  -3.67084771e-01 -3.94950449e-01  1.19307943e-01 -3.38422269e-01\n",
      "   1.02266341e-01  4.88206208e-01  2.30177507e-01  8.55980337e-01\n",
      "  -1.13753788e-01  2.28646129e-01 -3.22885543e-01  8.42251062e-01\n",
      "  -1.58726603e-01  9.54400077e-02  4.92413729e-01 -4.13482403e-03\n",
      "  -5.46676457e-01  3.14037293e-01 -1.05901027e+00 -3.57414603e-01\n",
      "   2.79731095e-01  4.77698117e-01 -2.26920322e-01  7.67638236e-02\n",
      "   4.95626211e-01  9.78183225e-02  4.04339701e-01 -1.74629435e-01\n",
      "   4.89362478e-02 -2.08862573e-01 -1.49838075e-01  1.35489836e-01\n",
      "   3.46300781e-01  1.07428819e-01  4.81392950e-01 -3.38577151e-01\n",
      "   8.82957101e-01  8.71578977e-02  4.02423352e-01 -2.39605576e-01\n",
      "  -5.98875701e-01 -4.95346226e-02 -3.44587982e-01  2.14173466e-01\n",
      "   3.93640757e-01 -2.53670719e-02  1.00473553e-01  7.35207498e-01\n",
      "   8.34878862e-01 -1.72662437e-02  1.36918843e-01  2.95577735e-01\n",
      "   1.42969832e-01 -1.00884512e-01 -5.62619306e-02  3.29327673e-01\n",
      "   3.00518513e-01 -1.80569530e-01 -2.49628440e-01 -4.21094805e-01\n",
      "   1.19916759e-01  2.59236693e-01  2.90010753e-03  4.53015208e-01\n",
      "   4.42272834e-02 -3.52027982e-01  5.06361485e-01  9.15771067e-01\n",
      "  -1.22291172e+00  9.74296629e-02  3.37212086e-01  6.60717964e-01\n",
      "   1.71638489e-01 -5.81970990e-01  1.81817487e-01 -1.09221198e-01\n",
      "   2.92494923e-01  2.07289755e-01 -1.40864715e-01 -1.64262712e-01\n",
      "  -3.07519376e-01  1.33797871e-02  3.76207173e-01  3.07127148e-01\n",
      "   2.23924622e-01  6.59914851e-01  5.63917398e-01 -8.92029524e-01\n",
      "  -2.54938453e-01  1.41670436e-01  1.34904966e-01 -4.44374941e-02\n",
      "   3.65352064e-01 -4.88344043e-01  7.01425150e-02  1.89478938e-02\n",
      "   5.15258133e-01 -3.79181623e-01  3.36162478e-01 -3.10546547e-01\n",
      "   2.28009652e-02  5.84189475e-01  2.49489561e-01 -6.12986863e-01\n",
      "  -9.69265401e-02  3.18146020e-01  2.82788843e-01 -4.25827280e-02\n",
      "  -4.98939484e-01  8.32982138e-02 -2.22573012e-01 -2.29339212e-01\n",
      "   4.63747770e-01 -4.27156687e-01 -7.20959455e-02  4.52883899e-01\n",
      "   4.12859499e-01  2.55907804e-01 -3.21325779e-01  2.03989863e-01\n",
      "   8.63109156e-02 -1.50706127e-01 -2.50318319e-01 -3.89236870e-04\n",
      "  -3.48011017e-01  4.51337337e-01 -4.51439142e-01  1.23067787e-02\n",
      "   8.28497186e-02  1.26736388e-01  9.82779562e-01  7.09154844e-01\n",
      "   6.69974880e-03  4.78649646e-01 -8.06848228e-01  3.04647565e-01\n",
      "  -2.46113509e-01 -2.70225942e-01  3.45082611e-01  6.02390319e-02\n",
      "   5.24917915e-02  5.46142101e-01 -5.74839525e-02  2.64438659e-01\n",
      "   1.54406847e-02 -1.75086763e-02 -5.01701117e-01 -8.25428069e-02\n",
      "  -3.42250824e-01 -1.05722792e-01 -4.75658387e-01 -1.00431845e-01\n",
      "  -1.28600717e-01  2.17672929e-01 -4.96852756e-01 -6.55806422e-01\n",
      "  -6.32703453e-02 -3.04599017e-01  3.68258506e-01 -5.48656404e-01\n",
      "  -3.96856777e-02  5.42169750e-01  8.22636262e-02 -6.64568366e-03\n",
      "  -1.05492130e-01  5.22261150e-02  7.37072229e-01  2.59580225e-01\n",
      "  -1.83817223e-01 -1.00997142e-01 -3.65073800e-01  6.65783882e-01\n",
      "   5.29192667e-03 -1.43251373e-02  5.52635074e-01  6.64050058e-02\n",
      "  -1.37406260e-01 -4.22275364e-01 -4.36449088e-02  3.05718720e-01\n",
      "   2.85627574e-01  2.77535081e-01 -1.99138463e-01 -8.52918983e-01\n",
      "  -5.39433863e-03 -7.29347989e-02 -2.02555940e-01 -9.51919407e-02\n",
      "   2.48786993e-02 -3.82966571e-03 -1.17684625e-01 -5.82698464e-01\n",
      "   8.84489715e-03 -1.32025614e-01 -2.13067383e-01 -5.52387357e-01\n",
      "   6.73025474e-02 -3.51038992e-01  2.63738543e-01  2.29113668e-01\n",
      "  -6.72459370e-03  1.65371876e-02 -1.79055795e-01 -8.02983120e-02\n",
      "   5.72331011e-01 -1.66717507e-02 -3.19638371e-01  1.24082528e-01\n",
      "   2.02833429e-01  3.67177099e-01  2.05869973e-01 -9.47454453e-01\n",
      "  -6.50741011e-02 -3.60182315e-01  4.36485887e-01 -2.31535971e-01\n",
      "  -6.45820647e-02 -5.46180047e-02  3.84783417e-01  8.43800753e-02\n",
      "   8.71148854e-02 -4.03088599e-01 -5.77893376e-01 -3.08179587e-01\n",
      "   2.21398398e-01  2.29958802e-01 -5.48600554e-01  9.73734409e-02\n",
      "  -6.79948807e-01 -1.99597687e-01  1.36080146e-01  4.63591695e-01\n",
      "  -2.68425405e-01 -3.38108838e-01  1.17031269e-01  3.30756783e-01\n",
      "  -2.64254212e-01 -7.48708099e-02  1.07471511e-01  2.15744928e-01\n",
      "   5.05563140e-01 -4.36595619e-01 -4.51165348e-01 -1.54356584e-01\n",
      "  -5.30892387e-02  4.97738242e-01  5.30169196e-02  2.33186036e-01\n",
      "  -3.31482559e-01 -3.68326753e-02 -2.10711181e-01 -3.78727317e-01\n",
      "   5.33953786e-01  8.01918358e-02  1.23690672e-01  3.21234733e-01\n",
      "  -7.10526228e-01 -2.10836634e-01 -5.17913222e-01  6.91787750e-02\n",
      "   7.56318793e-02  1.05476864e-01  3.98889571e-01 -7.55164623e-02\n",
      "  -6.83307350e-02  2.86486864e-01  4.81174856e-01 -1.00870192e-01\n",
      "   4.84158635e-01  6.46479785e-01  6.26945198e-01  1.71428472e-01\n",
      "  -8.50011885e-01 -5.79887748e-01  4.62022871e-02  5.45171127e-02\n",
      "  -7.03618601e-02  1.62102431e-02  2.72897035e-01 -3.06166261e-01\n",
      "   1.66856408e-01 -3.59501004e-01  4.37064976e-01 -2.17263296e-01\n",
      "  -7.78762281e-01  1.06052883e-01  1.00060061e-01 -1.58526435e-01\n",
      "  -2.97428608e-01 -2.26069301e-01  4.12521511e-01 -2.00352579e-01\n",
      "   3.18145037e-01  2.28752106e-01 -4.43876237e-01 -7.85178125e-01\n",
      "   1.52011618e-01  9.82849449e-02 -7.56554585e-03  7.16630220e-01\n",
      "   4.27000672e-01 -2.33436733e-01 -1.89591110e-01  2.60868639e-01\n",
      "  -3.16958964e-01  2.50310272e-01 -4.80965823e-01 -3.79738599e-01\n",
      "   7.67938942e-02  2.20577732e-01 -3.40915650e-01  2.61230350e-01\n",
      "   3.28721851e-01  5.24452478e-02  7.40243495e-02  3.93174477e-02\n",
      "   1.26527369e-01  1.20293943e-03 -3.97727132e-01 -4.52627577e-02\n",
      "   3.15494299e-01 -2.22852677e-01  5.47158182e-01 -1.44485265e-01\n",
      "  -2.07998604e-01  1.38070241e-01  3.63784015e-01  8.07033554e-02\n",
      "   3.01566329e-02 -1.33048937e-01  2.08699424e-02  8.11172053e-02\n",
      "   3.58952247e-02  6.07717156e-01 -4.40276712e-01 -8.76225606e-02\n",
      "  -7.93980241e-01 -2.62272298e-01  5.83306968e-01 -5.65393746e-01\n",
      "  -3.56235534e-01 -2.15299353e-01 -2.90497959e-01 -1.39420643e-01\n",
      "   5.90006933e-02  4.04682606e-02  3.61148983e-01  3.20174336e-01\n",
      "  -2.93920981e-03 -2.51426250e-01  7.42112100e-01 -3.52252483e-01\n",
      "  -2.70335048e-01  2.73840636e-01  9.93973836e-02 -1.11029275e-01\n",
      "  -3.33885133e-01 -2.56275892e-01 -3.70276988e-01  7.44504690e-01\n",
      "  -3.56039464e-01 -2.64170885e-01  9.29963067e-02 -7.86873102e-02\n",
      "   4.83924091e-01 -2.56453156e-01  5.27713060e-01  3.74616757e-02\n",
      "  -1.08931795e-01  2.49698743e-01 -8.56634900e-02 -2.79858530e-01\n",
      "   1.13557085e-01  3.27895731e-01  5.91918468e-01 -1.26425117e-01\n",
      "  -1.50574028e-01 -2.36240163e-01 -5.02266586e-01 -2.25922689e-01\n",
      "  -3.78002524e-01 -5.67126095e-01  2.78085917e-01 -1.14175631e-02\n",
      "  -3.10075700e-01  1.20499432e-01 -2.06576772e-02 -1.54722393e-01\n",
      "  -3.13934535e-02  7.01613784e-01 -6.19692385e-01  4.69388485e-01\n",
      "  -3.30952346e-01  9.25705016e-01  1.75736904e-01 -2.35797122e-01\n",
      "  -1.72159240e-01 -3.45545299e-02  1.99211016e-01  4.60230023e-01\n",
      "  -6.63772523e-02 -4.65884984e-01  5.04552960e-01  2.33437285e-01\n",
      "  -9.93038565e-02 -6.13431670e-02 -4.34990168e-01 -4.23947096e-01\n",
      "  -2.18513116e-01  4.58006620e-01  2.32921869e-01  2.49742195e-01\n",
      "   1.14844608e+00  1.05589770e-01 -9.26486403e-02 -8.15685838e-02\n",
      "   2.18961716e-01  2.65827686e-01  3.36747885e-01  3.27421188e-01\n",
      "  -2.74973780e-01  4.80558276e-01 -2.30216712e-01 -8.41884464e-02\n",
      "  -3.14393014e-01 -2.88323522e-01 -1.73199344e-02  6.37700483e-02\n",
      "   2.60942578e-01  6.15827963e-02  9.78936478e-02 -5.91262802e-02\n",
      "  -6.42334044e-01 -3.52634966e-01  3.50488067e-01  4.66789484e-01\n",
      "  -3.59333128e-01  3.95520069e-02 -3.72315161e-02 -9.48972255e-02\n",
      "  -2.63361871e-01 -6.90310955e-01 -1.18634276e-01 -2.33474210e-01\n",
      "  -2.03619488e-02 -1.65393144e-01 -1.59426808e-01  4.78901476e-01\n",
      "  -2.05054224e-01 -1.23938635e-01 -2.21752927e-01 -4.07392055e-01\n",
      "  -1.51808009e-01  1.36615396e-01 -1.18193412e+00  6.34547509e-03\n",
      "   1.29260734e-01  6.25124052e-02 -7.45649815e-01 -3.26760896e-02\n",
      "   6.25888351e-03  2.22128585e-01 -1.67271778e-01 -4.00265716e-02\n",
      "  -6.43310368e-01  1.64115518e-01 -9.88902524e-02 -6.45744428e-02]]\n"
     ]
    }
   ],
   "source": [
    "vector = new_model.wv['the']  # numpy vector of a word\n",
    "print(vector.shape)\n",
    "y = np.expand_dims(vector, axis=0)\n",
    "print(y.shape)\n",
    "print(y)"
   ]
  },
  {
   "cell_type": "code",
   "execution_count": 10,
   "metadata": {},
   "outputs": [
    {
     "name": "stderr",
     "output_type": "stream",
     "text": [
      "c:\\users\\rahul\\anaconda3\\envs\\miniproj2\\lib\\site-packages\\gensim\\matutils.py:737: FutureWarning:\n",
      "\n",
      "Conversion of the second argument of issubdtype from `int` to `np.signedinteger` is deprecated. In future, it will be treated as `np.int32 == np.dtype(int).type`.\n",
      "\n"
     ]
    },
    {
     "data": {
      "text/plain": [
       "0.18763599"
      ]
     },
     "execution_count": 10,
     "metadata": {},
     "output_type": "execute_result"
    }
   ],
   "source": [
    "new_model.wv.similarity('the', '<unk>')"
   ]
  },
  {
   "cell_type": "code",
   "execution_count": 11,
   "metadata": {},
   "outputs": [
    {
     "data": {
      "text/plain": [
       "[('another', 0.4530508816242218),\n",
       " ('a', 0.4060603976249695),\n",
       " ('panama', 0.40567559003829956),\n",
       " ('history', 0.4049391746520996),\n",
       " ('conditions', 0.39184027910232544),\n",
       " ('this', 0.38766440749168396),\n",
       " ('trade', 0.38560062646865845),\n",
       " ('passed', 0.3772142231464386),\n",
       " ('taking', 0.3696736693382263),\n",
       " ('single', 0.36783552169799805)]"
      ]
     },
     "execution_count": 11,
     "metadata": {},
     "output_type": "execute_result"
    }
   ],
   "source": [
    "new_model.wv.most_similar(positive=['the'],topn=10)"
   ]
  },
  {
   "cell_type": "code",
   "execution_count": 12,
   "metadata": {},
   "outputs": [
    {
     "data": {
      "text/plain": [
       "[('any', 0.40079954266548157),\n",
       " ('further', 0.3531814217567444),\n",
       " ('trade', 0.33883434534072876),\n",
       " ('approval', 0.33747413754463196),\n",
       " ('prior', 0.33624330163002014)]"
      ]
     },
     "execution_count": 12,
     "metadata": {},
     "output_type": "execute_result"
    }
   ],
   "source": [
    "new_model.wv.most_similar(positive=['the'], negative=['<unk>'],topn=5)"
   ]
  },
  {
   "cell_type": "code",
   "execution_count": 14,
   "metadata": {},
   "outputs": [
    {
     "name": "stdout",
     "output_type": "stream",
     "text": [
      "(9999, 500)\n"
     ]
    },
    {
     "name": "stderr",
     "output_type": "stream",
     "text": [
      "c:\\users\\rahul\\anaconda3\\envs\\miniproj2\\lib\\site-packages\\ipykernel_launcher.py:2: DeprecationWarning:\n",
      "\n",
      "Call to deprecated `__getitem__` (Method will be removed in 4.0.0, use self.wv.__getitem__() instead).\n",
      "\n"
     ]
    }
   ],
   "source": [
    "vocab = list(new_model.wv.vocab)\n",
    "X = new_model[vocab]\n",
    "print(X.shape)"
   ]
  },
  {
   "cell_type": "code",
   "execution_count": 23,
   "metadata": {},
   "outputs": [
    {
     "name": "stdout",
     "output_type": "stream",
     "text": [
      "3370\n"
     ]
    }
   ],
   "source": [
    "#will train word embedding on validation and test datasets also\n",
    "filename = 'C:/Users/RAHUL/Downloads/simple-examples/data/ptb.valid.txt'\n",
    "words=read_custom_file_linebyline(filename)\n",
    "print(len(words))"
   ]
  },
  {
   "cell_type": "code",
   "execution_count": 26,
   "metadata": {},
   "outputs": [
    {
     "name": "stderr",
     "output_type": "stream",
     "text": [
      "2018-10-19 17:12:47,175 : WARNING : Effective 'alpha' higher than previous training cycles\n",
      "2018-10-19 17:12:47,177 : INFO : training model with 3 workers on 9999 vocabulary and 500 features, using sg=0 hs=0 sample=0.001 negative=5 window=5\n",
      "2018-10-19 17:12:47,346 : INFO : worker thread finished; awaiting finish of 2 more threads\n",
      "2018-10-19 17:12:47,352 : INFO : worker thread finished; awaiting finish of 1 more threads\n",
      "2018-10-19 17:12:47,388 : INFO : worker thread finished; awaiting finish of 0 more threads\n",
      "2018-10-19 17:12:47,389 : INFO : EPOCH - 1 : training on 70390 raw words (51218 effective words) took 0.2s, 255359 effective words/s\n",
      "2018-10-19 17:12:47,526 : INFO : worker thread finished; awaiting finish of 2 more threads\n",
      "2018-10-19 17:12:47,534 : INFO : worker thread finished; awaiting finish of 1 more threads\n",
      "2018-10-19 17:12:47,562 : INFO : worker thread finished; awaiting finish of 0 more threads\n",
      "2018-10-19 17:12:47,563 : INFO : EPOCH - 2 : training on 70390 raw words (51150 effective words) took 0.2s, 320943 effective words/s\n",
      "2018-10-19 17:12:47,719 : INFO : worker thread finished; awaiting finish of 2 more threads\n",
      "2018-10-19 17:12:47,732 : INFO : worker thread finished; awaiting finish of 1 more threads\n",
      "2018-10-19 17:12:47,756 : INFO : worker thread finished; awaiting finish of 0 more threads\n",
      "2018-10-19 17:12:47,757 : INFO : EPOCH - 3 : training on 70390 raw words (51137 effective words) took 0.2s, 282695 effective words/s\n",
      "2018-10-19 17:12:47,895 : INFO : worker thread finished; awaiting finish of 2 more threads\n",
      "2018-10-19 17:12:47,896 : INFO : worker thread finished; awaiting finish of 1 more threads\n",
      "2018-10-19 17:12:47,932 : INFO : worker thread finished; awaiting finish of 0 more threads\n",
      "2018-10-19 17:12:47,933 : INFO : EPOCH - 4 : training on 70390 raw words (51319 effective words) took 0.2s, 320751 effective words/s\n",
      "2018-10-19 17:12:48,072 : INFO : worker thread finished; awaiting finish of 2 more threads\n",
      "2018-10-19 17:12:48,082 : INFO : worker thread finished; awaiting finish of 1 more threads\n",
      "2018-10-19 17:12:48,104 : INFO : worker thread finished; awaiting finish of 0 more threads\n",
      "2018-10-19 17:12:48,105 : INFO : EPOCH - 5 : training on 70390 raw words (51214 effective words) took 0.2s, 312511 effective words/s\n",
      "2018-10-19 17:12:48,260 : INFO : worker thread finished; awaiting finish of 2 more threads\n",
      "2018-10-19 17:12:48,268 : INFO : worker thread finished; awaiting finish of 1 more threads\n",
      "2018-10-19 17:12:48,305 : INFO : worker thread finished; awaiting finish of 0 more threads\n",
      "2018-10-19 17:12:48,306 : INFO : EPOCH - 6 : training on 70390 raw words (51224 effective words) took 0.2s, 299131 effective words/s\n",
      "2018-10-19 17:12:48,481 : INFO : worker thread finished; awaiting finish of 2 more threads\n",
      "2018-10-19 17:12:48,489 : INFO : worker thread finished; awaiting finish of 1 more threads\n",
      "2018-10-19 17:12:48,524 : INFO : worker thread finished; awaiting finish of 0 more threads\n",
      "2018-10-19 17:12:48,525 : INFO : EPOCH - 7 : training on 70390 raw words (51070 effective words) took 0.2s, 245536 effective words/s\n",
      "2018-10-19 17:12:48,704 : INFO : worker thread finished; awaiting finish of 2 more threads\n",
      "2018-10-19 17:12:48,710 : INFO : worker thread finished; awaiting finish of 1 more threads\n",
      "2018-10-19 17:12:48,756 : INFO : worker thread finished; awaiting finish of 0 more threads\n",
      "2018-10-19 17:12:48,757 : INFO : EPOCH - 8 : training on 70390 raw words (51162 effective words) took 0.2s, 243439 effective words/s\n",
      "2018-10-19 17:12:48,913 : INFO : worker thread finished; awaiting finish of 2 more threads\n",
      "2018-10-19 17:12:48,927 : INFO : worker thread finished; awaiting finish of 1 more threads\n",
      "2018-10-19 17:12:48,951 : INFO : worker thread finished; awaiting finish of 0 more threads\n",
      "2018-10-19 17:12:48,952 : INFO : EPOCH - 9 : training on 70390 raw words (51254 effective words) took 0.2s, 290735 effective words/s\n",
      "2018-10-19 17:12:49,107 : INFO : worker thread finished; awaiting finish of 2 more threads\n",
      "2018-10-19 17:12:49,109 : INFO : worker thread finished; awaiting finish of 1 more threads\n",
      "2018-10-19 17:12:49,155 : INFO : worker thread finished; awaiting finish of 0 more threads\n",
      "2018-10-19 17:12:49,156 : INFO : EPOCH - 10 : training on 70390 raw words (51192 effective words) took 0.2s, 276385 effective words/s\n",
      "2018-10-19 17:12:49,157 : INFO : training on a 703900 raw words (511940 effective words) took 2.0s, 258731 effective words/s\n"
     ]
    },
    {
     "data": {
      "text/plain": [
       "(511940, 703900)"
      ]
     },
     "execution_count": 26,
     "metadata": {},
     "output_type": "execute_result"
    }
   ],
   "source": [
    "logging.basicConfig(format='%(asctime)s : %(levelname)s : %(message)s', level=logging.INFO)\n",
    "\n",
    "# train word2vec on the two sentences\n",
    "#path = get_tmpfile(\"word2vec.model\")\n",
    "new_model.train(words,total_examples=len(words),epochs=10)\n",
    "#model = gensim.models.Word2Vec(words,size=500,window=5, min_count=1,iter=10)\n",
    "#To support linear learning-rate decay from (initial) alpha to min_alpha, and accurate progress-percentage logging, \n",
    "#either total_examples (count of sentences) or total_words (count of raw words in sentences) MUST be provided"
   ]
  },
  {
   "cell_type": "code",
   "execution_count": 27,
   "metadata": {},
   "outputs": [
    {
     "name": "stdout",
     "output_type": "stream",
     "text": [
      "3761\n"
     ]
    }
   ],
   "source": [
    "#will train word embedding on validation and test datasets also\n",
    "filename = 'C:/Users/RAHUL/Downloads/simple-examples/data/ptb.test.txt'\n",
    "words=read_custom_file_linebyline(filename)\n",
    "print(len(words))"
   ]
  },
  {
   "cell_type": "code",
   "execution_count": 28,
   "metadata": {
    "scrolled": true
   },
   "outputs": [
    {
     "name": "stderr",
     "output_type": "stream",
     "text": [
      "2018-10-19 17:13:53,167 : WARNING : Effective 'alpha' higher than previous training cycles\n",
      "2018-10-19 17:13:53,169 : INFO : training model with 3 workers on 9999 vocabulary and 500 features, using sg=0 hs=0 sample=0.001 negative=5 window=5\n",
      "2018-10-19 17:13:53,378 : INFO : worker thread finished; awaiting finish of 2 more threads\n",
      "2018-10-19 17:13:53,426 : INFO : worker thread finished; awaiting finish of 1 more threads\n",
      "2018-10-19 17:13:53,431 : INFO : worker thread finished; awaiting finish of 0 more threads\n",
      "2018-10-19 17:13:53,432 : INFO : EPOCH - 1 : training on 78669 raw words (56870 effective words) took 0.2s, 232936 effective words/s\n",
      "2018-10-19 17:13:53,583 : INFO : worker thread finished; awaiting finish of 2 more threads\n",
      "2018-10-19 17:13:53,609 : INFO : worker thread finished; awaiting finish of 1 more threads\n",
      "2018-10-19 17:13:53,626 : INFO : worker thread finished; awaiting finish of 0 more threads\n",
      "2018-10-19 17:13:53,628 : INFO : EPOCH - 2 : training on 78669 raw words (56690 effective words) took 0.2s, 323650 effective words/s\n",
      "2018-10-19 17:13:53,799 : INFO : worker thread finished; awaiting finish of 2 more threads\n",
      "2018-10-19 17:13:53,839 : INFO : worker thread finished; awaiting finish of 1 more threads\n",
      "2018-10-19 17:13:53,840 : INFO : worker thread finished; awaiting finish of 0 more threads\n",
      "2018-10-19 17:13:53,841 : INFO : EPOCH - 3 : training on 78669 raw words (56830 effective words) took 0.2s, 345650 effective words/s\n",
      "2018-10-19 17:13:53,991 : INFO : worker thread finished; awaiting finish of 2 more threads\n",
      "2018-10-19 17:13:54,029 : INFO : worker thread finished; awaiting finish of 1 more threads\n",
      "2018-10-19 17:13:54,035 : INFO : worker thread finished; awaiting finish of 0 more threads\n",
      "2018-10-19 17:13:54,036 : INFO : EPOCH - 4 : training on 78669 raw words (56788 effective words) took 0.2s, 324631 effective words/s\n",
      "2018-10-19 17:13:54,199 : INFO : worker thread finished; awaiting finish of 2 more threads\n",
      "2018-10-19 17:13:54,228 : INFO : worker thread finished; awaiting finish of 1 more threads\n",
      "2018-10-19 17:13:54,233 : INFO : worker thread finished; awaiting finish of 0 more threads\n",
      "2018-10-19 17:13:54,235 : INFO : EPOCH - 5 : training on 78669 raw words (56851 effective words) took 0.2s, 301160 effective words/s\n",
      "2018-10-19 17:13:54,399 : INFO : worker thread finished; awaiting finish of 2 more threads\n",
      "2018-10-19 17:13:54,453 : INFO : worker thread finished; awaiting finish of 1 more threads\n",
      "2018-10-19 17:13:54,460 : INFO : worker thread finished; awaiting finish of 0 more threads\n",
      "2018-10-19 17:13:54,463 : INFO : EPOCH - 6 : training on 78669 raw words (56873 effective words) took 0.2s, 275605 effective words/s\n",
      "2018-10-19 17:13:54,631 : INFO : worker thread finished; awaiting finish of 2 more threads\n",
      "2018-10-19 17:13:54,679 : INFO : worker thread finished; awaiting finish of 1 more threads\n",
      "2018-10-19 17:13:54,681 : INFO : worker thread finished; awaiting finish of 0 more threads\n",
      "2018-10-19 17:13:54,682 : INFO : EPOCH - 7 : training on 78669 raw words (56993 effective words) took 0.2s, 286654 effective words/s\n",
      "2018-10-19 17:13:54,847 : INFO : worker thread finished; awaiting finish of 2 more threads\n",
      "2018-10-19 17:13:54,897 : INFO : worker thread finished; awaiting finish of 1 more threads\n",
      "2018-10-19 17:13:54,900 : INFO : worker thread finished; awaiting finish of 0 more threads\n",
      "2018-10-19 17:13:54,901 : INFO : EPOCH - 8 : training on 78669 raw words (56695 effective words) took 0.2s, 277887 effective words/s\n",
      "2018-10-19 17:13:55,062 : INFO : worker thread finished; awaiting finish of 2 more threads\n",
      "2018-10-19 17:13:55,090 : INFO : worker thread finished; awaiting finish of 1 more threads\n",
      "2018-10-19 17:13:55,109 : INFO : worker thread finished; awaiting finish of 0 more threads\n",
      "2018-10-19 17:13:55,110 : INFO : EPOCH - 9 : training on 78669 raw words (56715 effective words) took 0.2s, 298447 effective words/s\n",
      "2018-10-19 17:13:55,273 : INFO : worker thread finished; awaiting finish of 2 more threads\n",
      "2018-10-19 17:13:55,315 : INFO : worker thread finished; awaiting finish of 1 more threads\n",
      "2018-10-19 17:13:55,317 : INFO : worker thread finished; awaiting finish of 0 more threads\n",
      "2018-10-19 17:13:55,319 : INFO : EPOCH - 10 : training on 78669 raw words (56740 effective words) took 0.2s, 305930 effective words/s\n",
      "2018-10-19 17:13:55,320 : INFO : training on a 786690 raw words (568045 effective words) took 2.1s, 264271 effective words/s\n"
     ]
    },
    {
     "data": {
      "text/plain": [
       "(568045, 786690)"
      ]
     },
     "execution_count": 28,
     "metadata": {},
     "output_type": "execute_result"
    }
   ],
   "source": [
    "logging.basicConfig(format='%(asctime)s : %(levelname)s : %(message)s', level=logging.INFO)\n",
    "\n",
    "# train word2vec on the two sentences\n",
    "#path = get_tmpfile(\"word2vec.model\")\n",
    "new_model.train(words,total_examples=len(words),epochs=10)\n",
    "#model = gensim.models.Word2Vec(words,size=500,window=5, min_count=1,iter=10)\n",
    "#To support linear learning-rate decay from (initial) alpha to min_alpha, and accurate progress-percentage logging, \n",
    "#either total_examples (count of sentences) or total_words (count of raw words in sentences) MUST be provided"
   ]
  },
  {
   "cell_type": "code",
   "execution_count": 29,
   "metadata": {},
   "outputs": [
    {
     "name": "stdout",
     "output_type": "stream",
     "text": [
      "(500,)\n",
      "(1, 500)\n",
      "[[-0.25392386 -0.6577438  -0.07937221 -0.31724897 -0.22830538 -0.29388177\n",
      "   0.52875155  0.20552854 -0.04316919 -0.26354456  0.63011646 -0.19629066\n",
      "  -0.04600026  0.3233896   0.20125261  0.23534526 -0.04465125 -0.00673992\n",
      "  -0.17602058  0.3056319  -0.612882    0.7451111   0.1531595  -0.14596525\n",
      "   0.05104667 -0.13870554  0.13538082 -0.5371132  -0.0925815  -0.34113982\n",
      "   0.14159529 -0.07434732 -0.43841615 -0.5611997  -0.04290349 -0.6814885\n",
      "   0.04522524  0.518112    0.13790844  0.84259725 -0.15475649  0.13856202\n",
      "  -0.3660852   0.81816083  0.03412166  0.04400867  0.5735469   0.26003754\n",
      "  -0.3005739   0.29142353 -0.8187263  -0.44078287  0.12587304  0.3641441\n",
      "  -0.28378817  0.06194671  0.41214862 -0.02983987  0.34471494  0.12500328\n",
      "  -0.01967566 -0.17908244 -0.2596748   0.22333641  0.56810933 -0.02241521\n",
      "   0.59561795 -0.10545874  0.859298    0.2291059   0.03040988 -0.2234763\n",
      "  -0.6382968   0.13998537 -0.15374139  0.10406937  0.6262918   0.0393979\n",
      "   0.15270132  0.6443015   0.7508632   0.06519096  0.07870412  0.48193887\n",
      "   0.16477942 -0.07588008 -0.12974994  0.21986702  0.01442756 -0.01696096\n",
      "  -0.15563576 -0.4745899   0.04275353  0.29945078 -0.12201843  0.19107592\n",
      "   0.00484838 -0.25109723  0.35025138  0.45615873 -1.0724097   0.19317912\n",
      "   0.00134534  0.79929554  0.11559141 -0.38440597 -0.033675   -0.11575142\n",
      "   0.12534961  0.56815845  0.11508173 -0.19967534 -0.29685485 -0.044775\n",
      "   0.17381687  0.3384913   0.37537628  0.8719739   0.5327733  -0.8054067\n",
      "  -0.3533249  -0.01181541  0.33052123  0.25234172  0.09088811 -0.18463981\n",
      "  -0.06080042  0.03957445  0.2978782  -0.17030157  0.21336953 -0.31942636\n",
      "   0.20473471  0.63032866  0.14496268 -0.85214925  0.24358936  0.16983709\n",
      "   0.23566842 -0.28819165 -0.6073286   0.06348466 -0.02219975 -0.20804235\n",
      "   0.302231   -0.28351125 -0.20232837  0.48310173  0.19780338  0.20034342\n",
      "  -0.46669886  0.42631796  0.1474935  -0.09036885 -0.09394141  0.10033114\n",
      "  -0.42414892  0.47884446 -0.31874764 -0.04198413  0.06673048  0.14139186\n",
      "   0.7029072   0.7085634   0.16800821  0.08835482 -0.47183344  0.37071526\n",
      "  -0.01726216 -0.13374412  0.1986526  -0.09362829  0.01962736  0.41530183\n",
      "   0.11741344  0.33591092  0.11389658 -0.01119082 -0.5359889   0.05498059\n",
      "   0.10355473 -0.1293489  -0.6297362  -0.12076461 -0.02099698  0.07731753\n",
      "  -0.41359466 -0.7251786   0.11222523 -0.37599322  0.40888977 -0.6979599\n",
      "  -0.02832108  0.69720876 -0.10493495 -0.14017366 -0.11522129  0.04378313\n",
      "   0.5280285   0.19299746 -0.1128101   0.10592086 -0.44019318  0.8544209\n",
      "   0.00425272 -0.05181568  0.47432992  0.13885891  0.09769838 -0.23070857\n",
      "  -0.39419842  0.41345906  0.06116664  0.28044915 -0.17169021 -0.91423744\n",
      "  -0.03968988 -0.23198874 -0.22776599 -0.19074143 -0.06799881 -0.10583913\n",
      "   0.07947198 -0.3500092  -0.07090294 -0.20294091 -0.07355218 -0.38142675\n",
      "   0.28185517 -0.21991438  0.33926323  0.0803011  -0.17156766 -0.11120321\n",
      "  -0.23955584 -0.06475095  0.8618635  -0.24083862 -0.13281557  0.27382693\n",
      "   0.14338237  0.2979803   0.10585397 -0.79030246 -0.23655927 -0.2356859\n",
      "   0.4871282  -0.02586941  0.0410426   0.27139118  0.19045974  0.2783483\n",
      "  -0.06134275 -0.4846956  -0.32946    -0.54766005 -0.06987009  0.25445718\n",
      "  -0.24259694  0.1878938  -0.6839325  -0.09678935 -0.05072314  0.14365512\n",
      "  -0.53521377 -0.47946823  0.2829933   0.34479153 -0.03793408  0.05956668\n",
      "   0.10069198  0.3552884   0.41458368 -0.30758786 -0.49143478 -0.1301942\n",
      "  -0.01927844  0.4961861  -0.02669512  0.28725234 -0.25218093 -0.28034186\n",
      "  -0.21843486 -0.09664872  0.43842116 -0.05889982  0.29170087  0.37229076\n",
      "  -0.6796714   0.10080379 -0.59037775  0.1488589  -0.01719312 -0.03161879\n",
      "   0.12285343 -0.19094408 -0.17750801  0.19101778  0.7048046  -0.14012925\n",
      "   0.5265003   0.58805066  0.72829866  0.23520242 -0.7992685  -0.46196425\n",
      "   0.11394454 -0.0219116   0.20804533  0.01384429  0.24240416 -0.5800409\n",
      "   0.13254832 -0.3776096   0.35552073 -0.12346124 -0.43835264  0.11103398\n",
      "  -0.07678281 -0.3788008  -0.06353026 -0.3119466   0.36726603 -0.24180545\n",
      "   0.2590409   0.24196753 -0.39429256 -0.98544514  0.47948548  0.14892507\n",
      "  -0.19582267  0.81971455  0.46870327 -0.2512834  -0.4807255  -0.01176049\n",
      "  -0.3079947   0.37288272 -0.41793847 -0.63382655 -0.04211162  0.2090369\n",
      "   0.01474119  0.3085722   0.22628343  0.25744572  0.14290442 -0.08012394\n",
      "   0.16662598 -0.0090656  -0.307276    0.01055396  0.41947728 -0.36693367\n",
      "   0.3564199  -0.12447181 -0.24311157  0.32511887  0.26130602  0.16346796\n",
      "   0.2511834   0.0748155   0.02968807 -0.11296504  0.04238168  0.5548353\n",
      "  -0.3583605  -0.12149484 -0.89546996 -0.19791041  0.49983734 -0.5884271\n",
      "  -0.41299224 -0.50995916 -0.14983085  0.02353912  0.27549827  0.05104446\n",
      "   0.28384942  0.3231006   0.24714312 -0.27037773  0.8284488  -0.44978964\n",
      "  -0.20596936  0.2658416  -0.10836452 -0.35046118 -0.33751354 -0.13047548\n",
      "  -0.33092898  0.67276114 -0.41466135 -0.1751316   0.11226787 -0.02612828\n",
      "   0.442142   -0.249739    0.18670943  0.06323001  0.31045958 -0.0674146\n",
      "  -0.06179731 -0.22184317  0.34331673  0.2990821   0.5471287  -0.109387\n",
      "   0.1089859  -0.20878449 -0.24849686 -0.16257596 -0.20090014 -0.5213187\n",
      "   0.13425726 -0.01539409 -0.43091497  0.19665866  0.17482823 -0.2268375\n",
      "   0.20132379  0.5379595  -0.4565345   0.15217407 -0.31256256  0.56301653\n",
      "   0.19527233 -0.25110236 -0.2256542   0.01603614  0.3184644   0.19514161\n",
      "  -0.04565913 -0.3393383   0.5157374   0.35855204 -0.25370762 -0.42015857\n",
      "  -0.19325384 -0.5281426  -0.25468808  0.47308403  0.23903488  0.4470833\n",
      "   1.0979781   0.24036826  0.14258388  0.21457882  0.25052857  0.36146033\n",
      "   0.27095225  0.3734183  -0.295197    0.5763836  -0.31948727 -0.26169917\n",
      "  -0.3180784  -0.23829085  0.36565787  0.02121178  0.18081021  0.10251624\n",
      "  -0.06389769  0.16388695 -0.6240826  -0.3766755  -0.1687201   0.69277525\n",
      "  -0.10027431  0.1595413  -0.17862578 -0.18793267 -0.17752627 -0.7162044\n",
      "  -0.11348339 -0.43583503  0.07258663  0.13062516 -0.0253468   0.34120575\n",
      "  -0.56198645 -0.1255194  -0.34815922 -0.5274631  -0.3487001   0.03233465\n",
      "  -0.75408554  0.04771914  0.13863039  0.2720209  -0.45880207  0.3504155\n",
      "  -0.06348845  0.18293777 -0.11259943 -0.10755406 -0.5281916   0.17644109\n",
      "  -0.02459407 -0.253077  ]]\n"
     ]
    }
   ],
   "source": [
    "vector = new_model.wv['the']  # numpy vector of a word\n",
    "print(vector.shape)\n",
    "y = np.expand_dims(vector, axis=0)\n",
    "print(y.shape)\n",
    "print(y)"
   ]
  },
  {
   "cell_type": "code",
   "execution_count": 30,
   "metadata": {},
   "outputs": [
    {
     "data": {
      "text/plain": [
       "0.29155338"
      ]
     },
     "execution_count": 30,
     "metadata": {},
     "output_type": "execute_result"
    }
   ],
   "source": [
    "new_model.wv.similarity('the', '<unk>')"
   ]
  },
  {
   "cell_type": "code",
   "execution_count": 31,
   "metadata": {},
   "outputs": [
    {
     "name": "stderr",
     "output_type": "stream",
     "text": [
      "2018-10-19 17:16:57,317 : INFO : precomputing L2-norms of word weight vectors\n"
     ]
    },
    {
     "data": {
      "text/plain": [
       "[('history', 0.4264603853225708),\n",
       " ('conditions', 0.4149232804775238),\n",
       " ('another', 0.39837971329689026),\n",
       " ('this', 0.3932911157608032),\n",
       " ('panama', 0.3895398676395416),\n",
       " ('a', 0.37624990940093994),\n",
       " ('itself', 0.3760600686073303),\n",
       " ('approval', 0.37589916586875916),\n",
       " ('pressure', 0.3751649856567383),\n",
       " ('arising', 0.37331777811050415)]"
      ]
     },
     "execution_count": 31,
     "metadata": {},
     "output_type": "execute_result"
    }
   ],
   "source": [
    "new_model.wv.most_similar(positive=['the'],topn=10)"
   ]
  },
  {
   "cell_type": "code",
   "execution_count": 40,
   "metadata": {},
   "outputs": [
    {
     "name": "stderr",
     "output_type": "stream",
     "text": [
      "2018-10-19 17:24:15,615 : INFO : saving Word2Vec object under C:/Users/RAHUL/projects/word2vec_ptb.train_valid_test_500.model, separately None\n",
      "2018-10-19 17:24:15,617 : INFO : not storing attribute vectors_norm\n",
      "2018-10-19 17:24:15,618 : INFO : not storing attribute cum_table\n",
      "2018-10-19 17:24:16,379 : INFO : saved C:/Users/RAHUL/projects/word2vec_ptb.train_valid_test_500.model\n"
     ]
    }
   ],
   "source": [
    "new_model.save(\"C:/Users/RAHUL/projects/word2vec_ptb.train_valid_test_500.model\")"
   ]
  },
  {
   "cell_type": "code",
   "execution_count": 33,
   "metadata": {},
   "outputs": [
    {
     "name": "stderr",
     "output_type": "stream",
     "text": [
      "2018-10-19 17:20:46,388 : INFO : loading projection weights from C:/Users/RAHUL/Downloads/GoogleNews-vectors-negative300.bin\n",
      "2018-10-19 17:21:51,382 : INFO : loaded (3000000, 300) matrix from C:/Users/RAHUL/Downloads/GoogleNews-vectors-negative300.bin\n"
     ]
    }
   ],
   "source": [
    "#now say we were loading a bigger data corpus\n",
    "# Load Google's pre-trained Word2Vec model.\n",
    "model = gensim.models.KeyedVectors.load_word2vec_format('C:/Users/RAHUL/Downloads/GoogleNews-vectors-negative300.bin', binary=True)  \n"
   ]
  },
  {
   "cell_type": "code",
   "execution_count": 36,
   "metadata": {},
   "outputs": [
    {
     "name": "stdout",
     "output_type": "stream",
     "text": [
      "(300,)\n",
      "(1, 300)\n",
      "[[ 0.08007812  0.10498047  0.04980469  0.0534668  -0.06738281 -0.12060547\n",
      "   0.03515625 -0.11865234  0.04394531  0.03015137 -0.05688477 -0.07617188\n",
      "   0.01287842  0.04980469 -0.08496094 -0.06347656  0.00628662 -0.04321289\n",
      "   0.02026367  0.01330566 -0.01953125  0.09277344 -0.171875   -0.00131989\n",
      "   0.06542969  0.05834961 -0.08251953  0.0859375  -0.00318909  0.05859375\n",
      "  -0.03491211 -0.0123291  -0.0480957  -0.00302124  0.05639648  0.01495361\n",
      "  -0.07226562 -0.05224609  0.09667969  0.04296875 -0.03540039 -0.07324219\n",
      "   0.03271484 -0.06176758  0.00787354  0.0035553  -0.00878906  0.0390625\n",
      "   0.03833008  0.04443359  0.06982422  0.01263428 -0.00445557 -0.03320312\n",
      "  -0.04272461  0.09765625 -0.02160645 -0.0378418   0.01190186 -0.01391602\n",
      "  -0.11328125  0.09326172 -0.03930664 -0.11621094  0.02331543 -0.01599121\n",
      "   0.02636719  0.10742188 -0.00466919  0.09619141  0.0279541  -0.05395508\n",
      "   0.08544922 -0.03686523 -0.02026367 -0.08544922  0.125       0.14453125\n",
      "   0.0267334   0.15039062  0.05273438 -0.18652344  0.08154297 -0.01062012\n",
      "  -0.03735352 -0.07324219 -0.07519531  0.03613281 -0.13183594  0.00616455\n",
      "   0.05078125  0.04516602  0.0100708  -0.15039062 -0.06005859  0.05761719\n",
      "  -0.00692749  0.01586914 -0.0213623   0.10351562 -0.00029182 -0.046875\n",
      "  -0.01635742 -0.07861328 -0.06933594  0.01635742 -0.03149414 -0.01373291\n",
      "  -0.03662109 -0.08886719 -0.0480957  -0.01318359 -0.07177734  0.00588989\n",
      "  -0.04614258  0.03979492  0.10058594 -0.04931641  0.07568359  0.03881836\n",
      "  -0.16699219 -0.09619141 -0.10107422  0.02905273 -0.05786133 -0.01928711\n",
      "  -0.04296875 -0.08398438 -0.01989746  0.05151367  0.00848389 -0.03613281\n",
      "  -0.14941406 -0.01855469 -0.03637695 -0.07666016 -0.03955078 -0.06152344\n",
      "  -0.02001953  0.04150391  0.03686523 -0.07226562  0.00592041 -0.06298828\n",
      "   0.00738525 -0.01586914  0.01611328 -0.01452637  0.00772095  0.10107422\n",
      "  -0.00558472  0.01428223 -0.07617188  0.05639648 -0.01293945  0.03063965\n",
      "  -0.02490234 -0.09863281  0.0324707  -0.02807617 -0.08105469  0.02062988\n",
      "   0.01611328 -0.04199219 -0.03491211 -0.03759766  0.05493164  0.01373291\n",
      "   0.02685547 -0.05859375 -0.07177734 -0.12011719 -0.02282715 -0.1640625\n",
      "  -0.00361633 -0.05981445  0.07080078 -0.07714844  0.05175781 -0.04296875\n",
      "  -0.04833984  0.0300293  -0.06591797 -0.03173828 -0.04882812 -0.03491211\n",
      "   0.05883789 -0.01464844  0.18066406  0.05688477  0.05249023  0.05786133\n",
      "   0.11669922  0.05200195 -0.0534668   0.01867676 -0.015625    0.00576782\n",
      "  -0.07324219 -0.11621094  0.04052734  0.0625     -0.04321289  0.01055908\n",
      "   0.02172852  0.04248047  0.03271484  0.04418945  0.05761719  0.02612305\n",
      "  -0.01831055 -0.02697754 -0.00674438  0.00509644 -0.11621094  0.00364685\n",
      "   0.05761719 -0.05957031 -0.08837891  0.0135498   0.04541016 -0.04638672\n",
      "  -0.0177002  -0.0625      0.03442383 -0.02416992  0.03088379  0.09570312\n",
      "   0.07958984  0.03930664  0.0279541  -0.0859375   0.08105469  0.06640625\n",
      "  -0.00041962 -0.06933594  0.03588867 -0.03417969  0.04492188 -0.00772095\n",
      "  -0.00741577 -0.04760742  0.01397705 -0.09960938  0.0246582  -0.09960938\n",
      "   0.11474609  0.03173828  0.02209473  0.07226562  0.03686523  0.02563477\n",
      "   0.01367188 -0.02734375  0.00592041 -0.06738281  0.05053711 -0.02832031\n",
      "  -0.04516602 -0.01733398  0.02111816  0.03515625 -0.04296875  0.06640625\n",
      "   0.12207031  0.12353516  0.0039978   0.04516602 -0.01855469  0.04833984\n",
      "   0.04516602  0.08691406  0.02941895  0.03759766  0.03442383 -0.07373047\n",
      "  -0.0402832  -0.14648438 -0.02441406 -0.01953125  0.0065918  -0.0018158\n",
      "  -0.01092529  0.09326172  0.06542969  0.01843262 -0.09326172 -0.01574707\n",
      "  -0.07128906 -0.08935547 -0.07128906 -0.03015137 -0.01300049  0.01635742\n",
      "  -0.01831055  0.01483154  0.00500488  0.00366211  0.04760742 -0.06884766]]\n"
     ]
    },
    {
     "name": "stderr",
     "output_type": "stream",
     "text": [
      "c:\\users\\rahul\\anaconda3\\envs\\miniproj2\\lib\\site-packages\\ipykernel_launcher.py:1: DeprecationWarning:\n",
      "\n",
      "Call to deprecated `wv` (Attribute will be removed in 4.0.0, use self instead).\n",
      "\n"
     ]
    }
   ],
   "source": [
    "vector = model.wv['the']  # numpy vector of a word\n",
    "print(vector.shape)\n",
    "y = np.expand_dims(vector, axis=0)\n",
    "print(y.shape)\n",
    "print(y)"
   ]
  },
  {
   "cell_type": "code",
   "execution_count": null,
   "metadata": {},
   "outputs": [],
   "source": []
  }
 ],
 "metadata": {
  "kernelspec": {
   "display_name": "Python 3",
   "language": "python",
   "name": "python3"
  },
  "language_info": {
   "codemirror_mode": {
    "name": "ipython",
    "version": 3
   },
   "file_extension": ".py",
   "mimetype": "text/x-python",
   "name": "python",
   "nbconvert_exporter": "python",
   "pygments_lexer": "ipython3",
   "version": "3.6.6"
  }
 },
 "nbformat": 4,
 "nbformat_minor": 2
}
